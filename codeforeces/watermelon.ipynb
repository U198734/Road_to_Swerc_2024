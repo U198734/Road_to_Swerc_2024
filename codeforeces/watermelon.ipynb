{
 "cells": [
  {
   "cell_type": "code",
   "execution_count": null,
   "id": "8b2bb837-d07b-440f-85ef-ca5394d45605",
   "metadata": {},
   "outputs": [],
   "source": [
    "#A. Watermelon \n",
    "# divide watermelon - even numbers fans\n",
    "\n",
    "# input ej:\n",
    "# 10 \n",
    "\n",
    "import sys\n",
    "t = int(sys.stdin.readline().strip())\n",
    "\n",
    "if t % 2 == 0 and t > 2:\n",
    "    print('YES')\n",
    "else:\n",
    "    print('NO')"
   ]
  }
 ],
 "metadata": {
  "kernelspec": {
   "display_name": "Python 3 (ipykernel)",
   "language": "python",
   "name": "python3"
  },
  "language_info": {
   "codemirror_mode": {
    "name": "ipython",
    "version": 3
   },
   "file_extension": ".py",
   "mimetype": "text/x-python",
   "name": "python",
   "nbconvert_exporter": "python",
   "pygments_lexer": "ipython3",
   "version": "3.9.12"
  }
 },
 "nbformat": 4,
 "nbformat_minor": 5
}
