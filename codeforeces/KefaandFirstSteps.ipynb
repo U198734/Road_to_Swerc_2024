{
 "cells": [
  {
   "cell_type": "code",
   "execution_count": null,
   "id": "5c0481ed-3bfe-4e40-8468-33bf54cdd095",
   "metadata": {},
   "outputs": [
    {
     "name": "stdout",
     "output_type": "stream",
     "text": [
      "3\n"
     ]
    }
   ],
   "source": [
    "import sys\n",
    "\n",
    "# Input:\n",
    "#n = 3\n",
    "#a = [2, 2, 9]\n",
    "\n",
    "# n = int(sys.stdin.readline().strip())\n",
    "# a = list(map(int, sys.stdin.readline().strip().split()))\n",
    "\n",
    "n = int(input())\n",
    "a = list(map(int, input().split()))\n",
    "\n",
    "# n = 5\n",
    "# a = [10, 100, 111, 1, 2]\n",
    "\n",
    "current_length = 1\n",
    "max_length = 1\n",
    "\n",
    "for i in range(1, n):\n",
    "    if a[i] >= a[i - 1]:\n",
    "        current_length += 1\n",
    "    else:\n",
    "        current_length = 1\n",
    "\n",
    "    max_length = max(max_length, current_length)\n",
    "\n",
    "print(max_length)\n"
   ]
  }
 ],
 "metadata": {
  "kernelspec": {
   "display_name": "Python 3 (ipykernel)",
   "language": "python",
   "name": "python3"
  },
  "language_info": {
   "codemirror_mode": {
    "name": "ipython",
    "version": 3
   },
   "file_extension": ".py",
   "mimetype": "text/x-python",
   "name": "python",
   "nbconvert_exporter": "python",
   "pygments_lexer": "ipython3",
   "version": "3.9.12"
  }
 },
 "nbformat": 4,
 "nbformat_minor": 5
}
