{
 "cells": [
  {
   "cell_type": "code",
   "execution_count": 13,
   "id": "8b2bb837-d07b-440f-85ef-ca5394d45605",
   "metadata": {},
   "outputs": [
    {
     "name": "stdout",
     "output_type": "stream",
     "text": [
      "HOUSE\n"
     ]
    }
   ],
   "source": [
    "n = int(input())\n",
    "strings = []\n",
    "\n",
    "for _ in range(n):\n",
    "    string = input()\n",
    "    strings.append(string)\n",
    "    \n",
    "    \n",
    "for elem in strings:\n",
    "    if elem == 'abc':\n",
    "        print('YES')\n",
    "    elif elem == 'cba':\n",
    "        print('YES')\n",
    "    elif elem == 'bac':\n",
    "        print('YES')\n",
    "    elif elem == 'acb':\n",
    "        print('YES')\n",
    "    else:\n",
    "        print('NO')"
   ]
  }
 ],
 "metadata": {
  "kernelspec": {
   "display_name": "Python 3 (ipykernel)",
   "language": "python",
   "name": "python3"
  },
  "language_info": {
   "codemirror_mode": {
    "name": "ipython",
    "version": 3
   },
   "file_extension": ".py",
   "mimetype": "text/x-python",
   "name": "python",
   "nbconvert_exporter": "python",
   "pygments_lexer": "ipython3",
   "version": "3.9.12"
  }
 },
 "nbformat": 4,
 "nbformat_minor": 5
}
