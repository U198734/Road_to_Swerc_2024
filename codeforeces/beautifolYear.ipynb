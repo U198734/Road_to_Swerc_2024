{
 "cells": [
  {
   "cell_type": "code",
   "execution_count": 4,
   "id": "8b2bb837-d07b-440f-85ef-ca5394d45605",
   "metadata": {},
   "outputs": [
    {
     "name": "stdin",
     "output_type": "stream",
     "text": [
      " 1987\n"
     ]
    },
    {
     "name": "stdout",
     "output_type": "stream",
     "text": [
      "2013\n"
     ]
    }
   ],
   "source": [
    "def has_distinct_digits(year):\n",
    "    return len(set(str(year))) == len(str(year))\n",
    "\n",
    "def find_next_year_with_distinct_digits(current_year):\n",
    "    # Increment the year until a year with distinct digits is found\n",
    "    current_year += 1\n",
    "    while not has_distinct_digits(current_year):\n",
    "        current_year += 1\n",
    "    return current_year\n",
    "\n",
    "# Input\n",
    "y = int(input())\n",
    "\n",
    "# Output\n",
    "result = find_next_year_with_distinct_digits(y)\n",
    "print(result)\n"
   ]
  }
 ],
 "metadata": {
  "kernelspec": {
   "display_name": "Python 3 (ipykernel)",
   "language": "python",
   "name": "python3"
  },
  "language_info": {
   "codemirror_mode": {
    "name": "ipython",
    "version": 3
   },
   "file_extension": ".py",
   "mimetype": "text/x-python",
   "name": "python",
   "nbconvert_exporter": "python",
   "pygments_lexer": "ipython3",
   "version": "3.9.12"
  }
 },
 "nbformat": 4,
 "nbformat_minor": 5
}
