{
 "cells": [
  {
   "cell_type": "code",
   "execution_count": 12,
   "id": "34dce5aa-a7f5-4fc5-9ff0-153cc806a79f",
   "metadata": {},
   "outputs": [
    {
     "name": "stdout",
     "output_type": "stream",
     "text": [
      "1\n"
     ]
    }
   ],
   "source": [
    "# long words\n",
    "\n",
    "#input :\n",
    "# 3\n",
    "# word\n",
    "# woaklsjvna\n",
    "# asdkvajosndvañsdvña\n",
    "\n",
    "import sys\n",
    "\n",
    "import sys\n",
    " \n",
    "t = int(sys.stdin.readline().strip())\n",
    "words = []\n",
    " \n",
    "for _ in range(t):\n",
    "    word = sys.stdin.readline().strip()\n",
    "    words.append(word)\n",
    " \n",
    "for word in words:\n",
    "    if len(word) > 10:\n",
    "        print(word[0] + str(len(word) - 2) + word[-1])\n",
    "    else:\n",
    "        print(word)"
   ]
  },
  {
   "cell_type": "code",
   "execution_count": null,
   "id": "d2b2ad08-17e4-4fa0-80c4-baf2789cc11d",
   "metadata": {},
   "outputs": [],
   "source": []
  }
 ],
 "metadata": {
  "kernelspec": {
   "display_name": "Python 3 (ipykernel)",
   "language": "python",
   "name": "python3"
  },
  "language_info": {
   "codemirror_mode": {
    "name": "ipython",
    "version": 3
   },
   "file_extension": ".py",
   "mimetype": "text/x-python",
   "name": "python",
   "nbconvert_exporter": "python",
   "pygments_lexer": "ipython3",
   "version": "3.9.12"
  }
 },
 "nbformat": 4,
 "nbformat_minor": 5
}
