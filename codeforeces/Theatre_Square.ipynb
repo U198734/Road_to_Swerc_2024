{
 "cells": [
  {
   "cell_type": "code",
   "execution_count": 5,
   "id": "34dce5aa-a7f5-4fc5-9ff0-153cc806a79f",
   "metadata": {},
   "outputs": [
    {
     "name": "stdout",
     "output_type": "stream",
     "text": [
      "6\n"
     ]
    }
   ],
   "source": [
    "import sys\n",
    "\n",
    "# size n × m meters\n",
    "# Each flagstone is of the size a × a.\n",
    "# What is the least number of flagstones needed to pave the Square?\n",
    "# input n, m and a\n",
    "\n",
    "# input example\n",
    "# 6 6 4\n",
    "\n",
    "n,m,a = list(map(int, sys.stdin.readline().strip().split()))\n",
    "\n",
    "flagstone_rows_need = n // a\n",
    "flagstone_cols_need = m // a\n",
    "\n",
    "#If n % a is not zero, you need an additional row.\n",
    "#If m % a is not zero, you need an additional column.\n",
    "\n",
    "count_flagstones = 0\n",
    "if n % a != 0:\n",
    "    flagstone_rows_need +=1\n",
    "\n",
    "if m % a != 0:\n",
    "    flagstone_cols_need +=1\n",
    "\n",
    "count_flagstones = flagstone_rows_need * flagstone_cols_need\n",
    "print(count_flagstones)"
   ]
  },
  {
   "cell_type": "code",
   "execution_count": null,
   "id": "d2b2ad08-17e4-4fa0-80c4-baf2789cc11d",
   "metadata": {},
   "outputs": [],
   "source": []
  }
 ],
 "metadata": {
  "kernelspec": {
   "display_name": "Python 3 (ipykernel)",
   "language": "python",
   "name": "python3"
  },
  "language_info": {
   "codemirror_mode": {
    "name": "ipython",
    "version": 3
   },
   "file_extension": ".py",
   "mimetype": "text/x-python",
   "name": "python",
   "nbconvert_exporter": "python",
   "pygments_lexer": "ipython3",
   "version": "3.9.12"
  }
 },
 "nbformat": 4,
 "nbformat_minor": 5
}
