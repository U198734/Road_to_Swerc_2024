{
 "cells": [
  {
   "cell_type": "code",
   "execution_count": 14,
   "id": "8b2bb837-d07b-440f-85ef-ca5394d45605",
   "metadata": {},
   "outputs": [
    {
     "name": "stdout",
     "output_type": "stream",
     "text": [
      "6\n"
     ]
    }
   ],
   "source": [
    "#A. Watermelon \n",
    "# divide watermelon - even numbers fans\n",
    "\n",
    "# input ej:\n",
    "# 8 5\n",
    "# 10 9 8 7 7 7 5 5\n",
    "\n",
    "import sys\n",
    "\n",
    "n,k = list(map(int, sys.stdin.readline().strip().split()))\n",
    "\n",
    "problems = list(map(int, sys.stdin.readline().strip().split()))\n",
    "\n",
    "count = 0\n",
    "critical_value = problems[k-1]\n",
    "for problem in problems:\n",
    "    if problem >= critical_value and problem > 0:\n",
    "        count +=1\n",
    "print(count)\n",
    "\n",
    "\n"
   ]
  }
 ],
 "metadata": {
  "kernelspec": {
   "display_name": "Python 3 (ipykernel)",
   "language": "python",
   "name": "python3"
  },
  "language_info": {
   "codemirror_mode": {
    "name": "ipython",
    "version": 3
   },
   "file_extension": ".py",
   "mimetype": "text/x-python",
   "name": "python",
   "nbconvert_exporter": "python",
   "pygments_lexer": "ipython3",
   "version": "3.9.12"
  }
 },
 "nbformat": 4,
 "nbformat_minor": 5
}
