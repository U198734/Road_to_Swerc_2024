{
 "cells": [
  {
   "cell_type": "code",
   "execution_count": null,
   "id": "8b2bb837-d07b-440f-85ef-ca5394d45605",
   "metadata": {},
   "outputs": [],
   "source": [
    "# A team - sure solutions\n",
    "\n",
    "import sys\n",
    "\n",
    "# input\n",
    "# 3\n",
    "# 1 0 0\n",
    "# 1 1 1\n",
    "# 0 1 1\n",
    "\n",
    "\n",
    "n = int(sys.stdin.readline().strip())\n",
    "problems = []\n",
    "\n",
    "for _ in range(n):\n",
    "    problem = list(map(int, sys.stdin.readline().strip().split()))\n",
    "    problems.append(problem)\n",
    "\n",
    "count = 0\n",
    "\n",
    "for problem in problems:\n",
    "    if sum(problem) > 1:\n",
    "        count +=1\n",
    "\n",
    "print(count)"
   ]
  }
 ],
 "metadata": {
  "kernelspec": {
   "display_name": "Python 3 (ipykernel)",
   "language": "python",
   "name": "python3"
  },
  "language_info": {
   "codemirror_mode": {
    "name": "ipython",
    "version": 3
   },
   "file_extension": ".py",
   "mimetype": "text/x-python",
   "name": "python",
   "nbconvert_exporter": "python",
   "pygments_lexer": "ipython3",
   "version": "3.9.12"
  }
 },
 "nbformat": 4,
 "nbformat_minor": 5
}
