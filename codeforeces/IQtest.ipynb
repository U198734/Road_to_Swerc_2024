{
 "cells": [
  {
   "cell_type": "code",
   "execution_count": 6,
   "id": "8b2bb837-d07b-440f-85ef-ca5394d45605",
   "metadata": {},
   "outputs": [
    {
     "name": "stdout",
     "output_type": "stream",
     "text": [
      "2\n"
     ]
    }
   ],
   "source": [
    "# Input\n",
    "# 5\n",
    "# 2 4 7 8 10\n",
    "\n",
    "import sys\n",
    "n = int(sys.stdin.readline().strip())\n",
    "nums = list(map(int, sys.stdin.readline().strip().split()))\n",
    "\n",
    "\n",
    "check_array = [0]*n\n",
    "#nums = [2,4,7,8,10] --> 3\n",
    "#nums = [1,2,1,1,1] --> 2\n",
    "\n",
    "# if even --> 1\n",
    "# if odd --> 0\n",
    "for i in range(n):\n",
    "    if nums[i] % 2 == 0:\n",
    "        check_array[i] = 1\n",
    "\n",
    "if sum(check_array) > 1:\n",
    "    for i in range(n):\n",
    "        if check_array[i] == 0:\n",
    "            print(i+1)\n",
    "else:\n",
    "    for i in range(n):\n",
    "        if check_array[i] == 1:\n",
    "            print(i+1)\n",
    "    \n",
    "\n"
   ]
  }
 ],
 "metadata": {
  "kernelspec": {
   "display_name": "Python 3 (ipykernel)",
   "language": "python",
   "name": "python3"
  },
  "language_info": {
   "codemirror_mode": {
    "name": "ipython",
    "version": 3
   },
   "file_extension": ".py",
   "mimetype": "text/x-python",
   "name": "python",
   "nbconvert_exporter": "python",
   "pygments_lexer": "ipython3",
   "version": "3.9.12"
  }
 },
 "nbformat": 4,
 "nbformat_minor": 5
}
