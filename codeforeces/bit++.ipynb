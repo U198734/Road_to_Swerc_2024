{
 "cells": [
  {
   "cell_type": "code",
   "execution_count": 4,
   "id": "8b2bb837-d07b-440f-85ef-ca5394d45605",
   "metadata": {},
   "outputs": [
    {
     "name": "stdout",
     "output_type": "stream",
     "text": [
      "0\n"
     ]
    }
   ],
   "source": [
    "#Bit++\n",
    "\n",
    "#input\n",
    "# 1\n",
    "# ++X\n",
    "\n",
    "# or \n",
    "# 2\n",
    "# X++\n",
    "# --X\n",
    "\n",
    "\n",
    "import sys\n",
    "t = int(sys.stdin.readline().strip())\n",
    "operations = []\n",
    " \n",
    "for _ in range(t):\n",
    "    operation = sys.stdin.readline().strip()\n",
    "    operations.append(operation)\n",
    "\n",
    "\n",
    "count = 0\n",
    "for operation in operations:\n",
    "    if operation == '++X' or operation == 'X++':\n",
    "        count +=1\n",
    "    else:\n",
    "        count -=1\n",
    "print(count)\n",
    "\n",
    "\n",
    "\n"
   ]
  },
  {
   "cell_type": "code",
   "execution_count": null,
   "id": "a3ddc773-26f0-4eb4-87b0-278b2f67b357",
   "metadata": {},
   "outputs": [],
   "source": []
  }
 ],
 "metadata": {
  "kernelspec": {
   "display_name": "Python 3 (ipykernel)",
   "language": "python",
   "name": "python3"
  },
  "language_info": {
   "codemirror_mode": {
    "name": "ipython",
    "version": 3
   },
   "file_extension": ".py",
   "mimetype": "text/x-python",
   "name": "python",
   "nbconvert_exporter": "python",
   "pygments_lexer": "ipython3",
   "version": "3.9.12"
  }
 },
 "nbformat": 4,
 "nbformat_minor": 5
}
