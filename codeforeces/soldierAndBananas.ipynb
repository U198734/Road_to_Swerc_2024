{
 "cells": [
  {
   "cell_type": "code",
   "execution_count": 16,
   "id": "8b2bb837-d07b-440f-85ef-ca5394d45605",
   "metadata": {},
   "outputs": [
    {
     "name": "stdout",
     "output_type": "stream",
     "text": [
      "3\n",
      "6\n",
      "9\n",
      "12\n",
      "13\n"
     ]
    }
   ],
   "source": [
    "# w bananas \n",
    "# k dollards for the first\n",
    "# 2k for the second\n",
    "\n",
    "k,n,w = list(map(int, input().split()))\n",
    "\n",
    "cost = 0\n",
    "total_cost = 0\n",
    "\n",
    "for i in range(1,w+1):\n",
    "    cost = k * (i)\n",
    "    total_cost += cost\n",
    "    \n",
    "money_borrow = total_cost - n\n",
    "\n",
    "if money_borrow <= 0:\n",
    "    print(0)\n",
    "else:\n",
    "    print(money_borrow)\n",
    "\n",
    "\n",
    "\n",
    "\n",
    "\n"
   ]
  }
 ],
 "metadata": {
  "kernelspec": {
   "display_name": "Python 3 (ipykernel)",
   "language": "python",
   "name": "python3"
  },
  "language_info": {
   "codemirror_mode": {
    "name": "ipython",
    "version": 3
   },
   "file_extension": ".py",
   "mimetype": "text/x-python",
   "name": "python",
   "nbconvert_exporter": "python",
   "pygments_lexer": "ipython3",
   "version": "3.9.12"
  }
 },
 "nbformat": 4,
 "nbformat_minor": 5
}
