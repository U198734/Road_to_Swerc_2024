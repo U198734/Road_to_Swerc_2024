{
 "cells": [
  {
   "cell_type": "code",
   "execution_count": null,
   "id": "d9d38899-0a07-4ae7-bf4e-71731549dda6",
   "metadata": {},
   "outputs": [],
   "source": [
    "import sys\n",
    "\n",
    "\n",
    "'''\n",
    "Input: \n",
    "\n",
    "4\n",
    "4\n",
    "11 13 11 11\n",
    "5\n",
    "1 4 4 4 4\n",
    "10\n",
    "3 3 3 3 10 3 3 3 3 3\n",
    "3\n",
    "20 20 10\n",
    "'''\n",
    "\n",
    "\n",
    "\n",
    "\n",
    "t = int(sys.stdin.readline().strip())\n",
    "num = []\n",
    "\n",
    "for _ in range(t):\n",
    "    n = int(sys.stdin.readline().strip())\n",
    "    numss = list(map(int, sys.stdin.readline().strip().split()))\n",
    "    num.append(numss)\n",
    "\n",
    "for test_case in num:\n",
    "    for i in range(len(test_case)):\n",
    "        if i == 0:\n",
    "            if test_case[i] != test_case[1] and test_case[i] != test_case[2]:\n",
    "                print(i + 1)\n",
    "                break\n",
    "        elif i == len(test_case) - 1:\n",
    "            if test_case[i] != test_case[i - 2] and test_case[i] != test_case[i - 1]:\n",
    "                print(i + 1)\n",
    "                break\n",
    "        else:\n",
    "            if test_case[i] != test_case[i - 1] and test_case[i] != test_case[i + 1]:\n",
    "                print(i + 1)\n",
    "                break"
   ]
  }
 ],
 "metadata": {
  "kernelspec": {
   "display_name": "Python 3 (ipykernel)",
   "language": "python",
   "name": "python3"
  },
  "language_info": {
   "codemirror_mode": {
    "name": "ipython",
    "version": 3
   },
   "file_extension": ".py",
   "mimetype": "text/x-python",
   "name": "python",
   "nbconvert_exporter": "python",
   "pygments_lexer": "ipython3",
   "version": "3.9.12"
  }
 },
 "nbformat": 4,
 "nbformat_minor": 5
}
