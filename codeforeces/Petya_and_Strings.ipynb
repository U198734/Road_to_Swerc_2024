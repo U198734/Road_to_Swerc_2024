{
 "cells": [
  {
   "cell_type": "code",
   "execution_count": 14,
   "id": "8b2bb837-d07b-440f-85ef-ca5394d45605",
   "metadata": {},
   "outputs": [
    {
     "name": "stdout",
     "output_type": "stream",
     "text": [
      "6\n"
     ]
    }
   ],
   "source": [
    "# Strings comparisons\n",
    "\n",
    "def compare_strings(str1, str2):\n",
    "    str1 = str1.lower()\n",
    "    str2 = str2.lower()\n",
    "\n",
    "    # Diff cases\n",
    "    if str1 < str2:\n",
    "        return -1\n",
    "    elif str1 > str2:\n",
    "        return 1\n",
    "    else:\n",
    "        return 0\n",
    "\n",
    "# Input: Read two strings \n",
    "string1 = input().strip()\n",
    "string2 = input().strip()\n",
    "\n",
    "# Output: Print the result of the comparison\n",
    "print(compare_strings(string1, string2))\n",
    "\n",
    "\n",
    "\n"
   ]
  }
 ],
 "metadata": {
  "kernelspec": {
   "display_name": "Python 3 (ipykernel)",
   "language": "python",
   "name": "python3"
  },
  "language_info": {
   "codemirror_mode": {
    "name": "ipython",
    "version": 3
   },
   "file_extension": ".py",
   "mimetype": "text/x-python",
   "name": "python",
   "nbconvert_exporter": "python",
   "pygments_lexer": "ipython3",
   "version": "3.9.12"
  }
 },
 "nbformat": 4,
 "nbformat_minor": 5
}
