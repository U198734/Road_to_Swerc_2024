{
 "cells": [
  {
   "cell_type": "code",
   "execution_count": 13,
   "id": "8b2bb837-d07b-440f-85ef-ca5394d45605",
   "metadata": {},
   "outputs": [
    {
     "name": "stdout",
     "output_type": "stream",
     "text": [
      "HOUSE\n"
     ]
    }
   ],
   "source": [
    "string1 = input().strip()\n",
    "\n",
    "mayus_cont = 0\n",
    "minus_cont = 0\n",
    "for elem in string1:\n",
    "    if elem.isupper():\n",
    "        mayus_cont +=1\n",
    "    else:\n",
    "        minus_cont +=1\n",
    "        \n",
    "\n",
    "if mayus_cont > minus_cont:\n",
    "    string1 = string1.upper()\n",
    "    \n",
    "else:\n",
    "    string1 = string1.lower()\n",
    "    \n",
    "print(string1)"
   ]
  }
 ],
 "metadata": {
  "kernelspec": {
   "display_name": "Python 3 (ipykernel)",
   "language": "python",
   "name": "python3"
  },
  "language_info": {
   "codemirror_mode": {
    "name": "ipython",
    "version": 3
   },
   "file_extension": ".py",
   "mimetype": "text/x-python",
   "name": "python",
   "nbconvert_exporter": "python",
   "pygments_lexer": "ipython3",
   "version": "3.9.12"
  }
 },
 "nbformat": 4,
 "nbformat_minor": 5
}
