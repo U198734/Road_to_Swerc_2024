{
 "cells": [
  {
   "cell_type": "code",
   "execution_count": 2,
   "id": "4a520f68-d35f-447d-a1d1-b1ee2468d1af",
   "metadata": {},
   "outputs": [
    {
     "name": "stdin",
     "output_type": "stream",
     "text": [
      " 0 0 0 0 0\n",
      " 0 0 0 0 1\n",
      " 0 0 0 0 0\n",
      " 0 0 0 0 0\n",
      " 0 0 0 0 0\n"
     ]
    },
    {
     "name": "stdout",
     "output_type": "stream",
     "text": [
      "3\n"
     ]
    }
   ],
   "source": [
    "# You've got a 5 × 5 matrix, consisting of 24 zeroes and a single number one\n",
    "# Input\n",
    "# 0 0 0 0 0  \n",
    "# 0 0 0 0 1\n",
    "# 0 0 0 0 0\n",
    "# 0 0 0 0 0\n",
    "# 0 0 0 0 0\n",
    "\n",
    "# Function to find the minimum number of moves to make the matrix beautiful\n",
    "# beautiful meaning --> number in the intersection is in de middle\n",
    "# when the matrix is 5x5 --> beautiful its when is in the (2,2)\n",
    "\n",
    "def beautiful_matrix(matrix):\n",
    "    for i in range(5):\n",
    "        for j in range(5):\n",
    "            if matrix[i][j] == 1:\n",
    "                row_moves = abs(2 - i)\n",
    "                col_moves = abs(2 - j)\n",
    "                return row_moves + col_moves\n",
    "\n",
    "# Input: Read the matrix from the user\n",
    "matrix = [list(map(int, input().split())) for _ in range(5)]\n",
    "\n",
    "# Output: Print the minimum number of moves\n",
    "print(beautiful_matrix(matrix))\n",
    "\n",
    "\n",
    "\n",
    "\n",
    "\n",
    "\n",
    "\n"
   ]
  }
 ],
 "metadata": {
  "kernelspec": {
   "display_name": "Python 3 (ipykernel)",
   "language": "python",
   "name": "python3"
  },
  "language_info": {
   "codemirror_mode": {
    "name": "ipython",
    "version": 3
   },
   "file_extension": ".py",
   "mimetype": "text/x-python",
   "name": "python",
   "nbconvert_exporter": "python",
   "pygments_lexer": "ipython3",
   "version": "3.9.12"
  }
 },
 "nbformat": 4,
 "nbformat_minor": 5
}
