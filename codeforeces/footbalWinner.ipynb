{
 "cells": [
  {
   "cell_type": "code",
   "execution_count": 4,
   "id": "8b2bb837-d07b-440f-85ef-ca5394d45605",
   "metadata": {},
   "outputs": [
    {
     "name": "stdin",
     "output_type": "stream",
     "text": [
      " 5\n",
      " A\n",
      " A\n",
      " ABC\n",
      " ABC\n",
      " A\n"
     ]
    },
    {
     "name": "stdout",
     "output_type": "stream",
     "text": [
      "A\n"
     ]
    }
   ],
   "source": [
    "n = int(input())\n",
    "strings = []\n",
    "\n",
    "for _ in range(n):\n",
    "    string = input()\n",
    "    strings.append(string)\n",
    "    \n",
    "team1 = strings[0]\n",
    "countA = 0\n",
    "countB = 0\n",
    "\n",
    "for elem in strings:\n",
    "    if elem != team1:\n",
    "        team2 = elem\n",
    "        break\n",
    "\n",
    "for elem in strings:\n",
    "    if elem == team1:\n",
    "        countA +=1\n",
    "    else:\n",
    "        countB +=1\n",
    "if countA > countB:\n",
    "    print(team1)\n",
    "else:\n",
    "    print(team2)"
   ]
  }
 ],
 "metadata": {
  "kernelspec": {
   "display_name": "Python 3 (ipykernel)",
   "language": "python",
   "name": "python3"
  },
  "language_info": {
   "codemirror_mode": {
    "name": "ipython",
    "version": 3
   },
   "file_extension": ".py",
   "mimetype": "text/x-python",
   "name": "python",
   "nbconvert_exporter": "python",
   "pygments_lexer": "ipython3",
   "version": "3.9.12"
  }
 },
 "nbformat": 4,
 "nbformat_minor": 5
}
