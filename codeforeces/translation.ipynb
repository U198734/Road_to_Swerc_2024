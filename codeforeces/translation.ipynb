{
 "cells": [
  {
   "cell_type": "code",
   "execution_count": 10,
   "id": "b06a4d27-bd82-4cb8-bf74-b169d1b6c702",
   "metadata": {},
   "outputs": [
    {
     "name": "stdout",
     "output_type": "stream",
     "text": [
      "YES\n"
     ]
    }
   ],
   "source": [
    "import sys \n",
    " \n",
    "x = sys.stdin.readline().strip()\n",
    "y = sys.stdin.readline().strip()\n",
    "\n",
    "count = 0\n",
    "index_i = len(y) - 1\n",
    "for letter in x:\n",
    "    if letter == y[index_i] or (letter == 't' and y[index_i] == 's') :\n",
    "        index_i -= 1\n",
    "        count += 1\n",
    "        \n",
    "if count == len(x):\n",
    "    print('YES')\n",
    "else:\n",
    "    print('NO')"
   ]
  }
 ],
 "metadata": {
  "kernelspec": {
   "display_name": "Python 3 (ipykernel)",
   "language": "python",
   "name": "python3"
  },
  "language_info": {
   "codemirror_mode": {
    "name": "ipython",
    "version": 3
   },
   "file_extension": ".py",
   "mimetype": "text/x-python",
   "name": "python",
   "nbconvert_exporter": "python",
   "pygments_lexer": "ipython3",
   "version": "3.9.12"
  }
 },
 "nbformat": 4,
 "nbformat_minor": 5
}
