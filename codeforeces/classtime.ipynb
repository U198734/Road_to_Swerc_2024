{
 "cells": [
  {
   "cell_type": "code",
   "execution_count": null,
   "id": "52c9bbd3-81ed-4ed9-9550-d64053d4d1ed",
   "metadata": {},
   "outputs": [],
   "source": [
    "# Day 1 - Practising for SWERC 2024\n",
    "# Problem R - Class Time\n",
    "\n",
    "# Sample Input:\n",
    "# 3\n",
    "# John Adams\n",
    "# Bob Adam\n",
    "# Bob Adams\n",
    "\n",
    "# Sample Output\n",
    "# Bob Adam\n",
    "# Bob Adams\n",
    "# John Adams\n",
    "\n",
    "import sys\n",
    "t = int(sys.stdin.readline().strip())\n",
    "names = []\n",
    "for _ in range(t):\n",
    "    name = list(map(str,sys.stdin.readline().strip().split()))\n",
    "    names.append(name)\n",
    "    \n",
    "names = sorted(names, key = lambda x: (x[1],x[0]))\n",
    "\n",
    "for name in names:\n",
    "    print(name[0],name[1])"
   ]
  }
 ],
 "metadata": {
  "kernelspec": {
   "display_name": "Python 3 (ipykernel)",
   "language": "python",
   "name": "python3"
  },
  "language_info": {
   "codemirror_mode": {
    "name": "ipython",
    "version": 3
   },
   "file_extension": ".py",
   "mimetype": "text/x-python",
   "name": "python",
   "nbconvert_exporter": "python",
   "pygments_lexer": "ipython3",
   "version": "3.9.12"
  }
 },
 "nbformat": 4,
 "nbformat_minor": 5
}
