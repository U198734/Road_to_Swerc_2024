{
 "cells": [
  {
   "cell_type": "code",
   "execution_count": 1,
   "id": "33d32384-caf5-46a9-ae61-4174dc63f712",
   "metadata": {},
   "outputs": [
    {
     "name": "stdout",
     "output_type": "stream",
     "text": [
      "0\n"
     ]
    }
   ],
   "source": [
    "# Day 1 Practising for SWERC 2024\n",
    "# Problem P - Complexity\n",
    "\n",
    "# Sample Input   Sample Output\n",
    "# letter              2\n",
    "\n",
    "# Sample Input   Sample Output\n",
    "# assesses            1\n",
    "\n",
    "import sys\n",
    "word = sys.stdin.readline().strip()\n",
    "\n",
    "word_set = set(word)\n",
    "if(len(word_set)) <= 2:\n",
    "    print(0)\n",
    "\n",
    "else:\n",
    "    dic = {}\n",
    "    for char in word:\n",
    "        if char not in dic.keys():\n",
    "            dic[char] = 0\n",
    "        dic[char] += 1\n",
    "    total = len(word)\n",
    "    dic = dict(sorted(dic.items(),key = lambda item:item[1]))\n",
    "    counts = list(dic.values())\n",
    "    c = 0\n",
    "    while len(counts) > 2:\n",
    "        counts[0] -= 1\n",
    "        if(counts[0] == 0):\n",
    "            counts.pop(0)\n",
    "        c += 1\n",
    "    \n",
    "    print(c)  "
   ]
  },
  {
   "cell_type": "code",
   "execution_count": null,
   "id": "52c9bbd3-81ed-4ed9-9550-d64053d4d1ed",
   "metadata": {},
   "outputs": [],
   "source": []
  }
 ],
 "metadata": {
  "kernelspec": {
   "display_name": "Python 3 (ipykernel)",
   "language": "python",
   "name": "python3"
  },
  "language_info": {
   "codemirror_mode": {
    "name": "ipython",
    "version": 3
   },
   "file_extension": ".py",
   "mimetype": "text/x-python",
   "name": "python",
   "nbconvert_exporter": "python",
   "pygments_lexer": "ipython3",
   "version": "3.9.12"
  }
 },
 "nbformat": 4,
 "nbformat_minor": 5
}
