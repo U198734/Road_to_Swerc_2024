{
 "cells": [
  {
   "cell_type": "code",
   "execution_count": null,
   "id": "52c9bbd3-81ed-4ed9-9550-d64053d4d1ed",
   "metadata": {},
   "outputs": [],
   "source": [
    "# Day 2 - Practising for SWERC 2024\n",
    "# Problem E - Eszett\n",
    "\n",
    "import sys\n",
    " \n",
    "def generar_combinaciones(cadena, subcadena_a_sustituir, nueva_subcadena, indice=0, resultado=\"\"):\n",
    "    if indice >= len(cadena):\n",
    "        print(resultado)\n",
    "        return\n",
    " \n",
    "    if cadena[indice:indice + 2] == subcadena_a_sustituir:\n",
    "        # Case --> \"ss\" by \"B\"\n",
    "        generar_combinaciones(cadena, subcadena_a_sustituir, nueva_subcadena, indice + 2, resultado + nueva_subcadena)\n",
    "    \n",
    "    # Case where it is not replaced and goes to the next position\n",
    "    generar_combinaciones(cadena, subcadena_a_sustituir, nueva_subcadena, indice + 1, resultado + cadena[indice])\n",
    " \n",
    "    \n",
    "t = sys.stdin.readline().strip()\n",
    "t = t.lower()\n",
    "subcadena_a_sustituir = \"ss\"\n",
    "nueva_subcadena = \"B\"\n",
    " \n",
    "generar_combinaciones(t, subcadena_a_sustituir, nueva_subcadena)"
   ]
  }
 ],
 "metadata": {
  "kernelspec": {
   "display_name": "Python 3 (ipykernel)",
   "language": "python",
   "name": "python3"
  },
  "language_info": {
   "codemirror_mode": {
    "name": "ipython",
    "version": 3
   },
   "file_extension": ".py",
   "mimetype": "text/x-python",
   "name": "python",
   "nbconvert_exporter": "python",
   "pygments_lexer": "ipython3",
   "version": "3.9.12"
  }
 },
 "nbformat": 4,
 "nbformat_minor": 5
}
